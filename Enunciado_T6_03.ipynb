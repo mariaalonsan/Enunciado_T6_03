{
 "cells": [
  {
   "cell_type": "markdown",
   "metadata": {},
   "source": [
    "# Ejercicios Tema 6_03 Pandas\n",
    "\n",
    "* Guardar este documento con el siguiente formato para su entrega: __T6_03_nombre_apellido1_apellido2__\n",
    "* Realizar los ejercicios con las herramientas vistas en las sesiones. \n",
    "* Utilizar nombres de variables apropiados, si vais a guardar una nota, llamar a esa variable nota, no n o x\n",
    "* Podeis usar y crear más celdas si necesitais o podeis ponermelo todo en una con varios print()."
   ]
  },
  {
   "cell_type": "markdown",
   "metadata": {},
   "source": [
    "### 1. Carga el fichero \"catastro.tsv\" en un DataFrame y haz que el año sea el índice de filas de la información."
   ]
  },
  {
   "cell_type": "code",
   "execution_count": 1,
   "metadata": {},
   "outputs": [
    {
     "name": "stdout",
     "output_type": "stream",
     "text": [
      "      id_distrito distrito  id_barrio   barrio id_uso   \n",
      "año                                                     \n",
      "2014            1   Centro         11  PALACIO      A  \\\n",
      "2014            1   Centro         11  PALACIO      C   \n",
      "2014            1   Centro         11  PALACIO      E   \n",
      "2014            1   Centro         11  PALACIO      G   \n",
      "2014            1   Centro         11  PALACIO      I   \n",
      "\n",
      "                          uso  num_inmuebles  año_cons_medio  sup_cons   \n",
      "año                                                                      \n",
      "2014  Almacén-Estacionamiento           3034          1969.0  214457.0  \\\n",
      "2014                Comercial           1407          1921.0  223552.0   \n",
      "2014                 Cultural             36          1937.0   62963.0   \n",
      "2014        Ocio y Hostelería            254          1919.0  114226.0   \n",
      "2014               Industrial             22          1942.0   13228.0   \n",
      "\n",
      "      sup_suelo  valor_catastral  \n",
      "año                               \n",
      "2014        NaN     1.295259e+08  \n",
      "2014        NaN     4.076055e+08  \n",
      "2014        NaN     7.582872e+07  \n",
      "2014        NaN     1.954138e+08  \n",
      "2014        NaN     1.180795e+07  \n"
     ]
    }
   ],
   "source": [
    "import pandas as pd\n",
    "import numpy as np\n",
    "import matplotlib.pyplot as plt\n",
    "\n",
    "# Cargamos el archivo .tsv, especificando que el separador es un tabulador\n",
    "df = pd.read_csv('catastro.tsv', sep='\\t')\n",
    "\n",
    "# Vamos a estableces la columna \"año\" como índice\n",
    "df.set_index('año', inplace=True)\n",
    "\n",
    "# Mostramos las 5 primeras primeros filas\n",
    "print(df.head())"
   ]
  },
  {
   "cell_type": "markdown",
   "metadata": {},
   "source": [
    "### 2. Obtén el número de registros del barrio \"PALACIO\" para el año 2014."
   ]
  },
  {
   "cell_type": "code",
   "execution_count": 2,
   "metadata": {},
   "outputs": [
    {
     "name": "stdout",
     "output_type": "stream",
     "text": [
      "Número de registros para el barrio 'PALACIO' en 2014: 13\n"
     ]
    }
   ],
   "source": [
    "import pandas as pd\n",
    "\n",
    "# Cargar los datos del archivo TSV\n",
    "df = pd.read_csv('catastro.tsv', sep='\\t')\n",
    "\n",
    "# Filtrar los datos para el año 2014 y el barrio 'PALACIO'\n",
    "df_palacio_2014 = df[(df['año'] == 2014) & (df['barrio'] == 'PALACIO')]\n",
    "\n",
    "# Obtener el número de registros\n",
    "num_registros = df_palacio_2014.shape[0]\n",
    "\n",
    "# Imprimir el número de registros\n",
    "print(f\"Número de registros para el barrio 'PALACIO' en 2014: {num_registros}\")"
   ]
  },
  {
   "cell_type": "markdown",
   "metadata": {},
   "source": [
    "### 3. Selecciona las columnas sup_cons y valor_catastral para los 15 primeros registros con año 2013 y de uso Residencial.\n",
    "\n",
    "**Añade una columna al resultado del DataFrame que contenga el valor medio por metro cuadrado.**"
   ]
  },
  {
   "cell_type": "code",
   "execution_count": 4,
   "metadata": {},
   "outputs": [
    {
     "name": "stdout",
     "output_type": "stream",
     "text": [
      "       sup_cons  valor_catastral  valor_medio_m2\n",
      "1528  1370699.0     1.859333e+09     1356.484965\n",
      "1541  1991294.0     2.474862e+09     1242.841053\n",
      "1554   778432.0     1.181972e+09     1518.400659\n",
      "1567  1339143.0     2.164152e+09     1616.072330\n",
      "1580  1804472.0     2.466697e+09     1366.991069\n",
      "1593   651466.0     9.247622e+08     1419.509556\n",
      "1605   992802.0     1.286874e+09     1296.204138\n",
      "1617  1644314.0     2.082583e+09     1266.535947\n",
      "1628   767930.0     9.035908e+08     1176.657713\n",
      "1637   877666.0     1.244198e+09     1417.621318\n",
      "1649  1213772.0     1.499766e+09     1235.624367\n",
      "1662  1162594.0     1.362557e+09     1171.997108\n",
      "1670    53023.0     8.073477e+07     1522.636783\n",
      "1681  1607882.0     2.057542e+09     1279.659772\n",
      "1693   814031.0     1.112982e+09     1367.247269\n"
     ]
    }
   ],
   "source": [
    "import pandas as pd\n",
    "\n",
    "# Cargar los datos del archivo TSV\n",
    "df = pd.read_csv('catastro.tsv', sep='\\t')\n",
    "\n",
    "# Filtrar por año 2013 y uso Residencial\n",
    "df_filtrado = df[(df['año'] == 2013) & (df['uso'] == 'Residencial')]\n",
    "\n",
    "# Seleccionar los 15 primeros registros\n",
    "df_filtrado = df_filtrado.head(15)\n",
    "\n",
    "# Seleccionar las columnas 'sup_cons' y 'valor_catastral' y crear un nuevo DataFrame independiente\n",
    "df_seleccionado = df_filtrado[['sup_cons', 'valor_catastral']].copy()\n",
    "\n",
    "# Añadir la columna 'valor_medio_m2'\n",
    "df_seleccionado['valor_medio_m2'] = df_seleccionado['valor_catastral'] / df_seleccionado['sup_cons']\n",
    "\n",
    "# Mostrar el resultado\n",
    "print(df_seleccionado)"
   ]
  },
  {
   "cell_type": "markdown",
   "metadata": {},
   "source": [
    "### 4. Crea una función que a partir de un registro del fichero del catastro, calcule el valor catastral medio por inmueble y aplica esta función a los 10 últimos registros de la tabla del catastro."
   ]
  },
  {
   "cell_type": "code",
   "execution_count": 5,
   "metadata": {},
   "outputs": [
    {
     "name": "stdout",
     "output_type": "stream",
     "text": [
      "Datos cargados:\n",
      "    año  id_distrito distrito  id_barrio   barrio id_uso   \n",
      "0  2014            1   Centro         11  PALACIO      A  \\\n",
      "1  2014            1   Centro         11  PALACIO      C   \n",
      "2  2014            1   Centro         11  PALACIO      E   \n",
      "3  2014            1   Centro         11  PALACIO      G   \n",
      "4  2014            1   Centro         11  PALACIO      I   \n",
      "\n",
      "                       uso  num_inmuebles  año_cons_medio  sup_cons   \n",
      "0  Almacén-Estacionamiento           3034          1969.0  214457.0  \\\n",
      "1                Comercial           1407          1921.0  223552.0   \n",
      "2                 Cultural             36          1937.0   62963.0   \n",
      "3        Ocio y Hostelería            254          1919.0  114226.0   \n",
      "4               Industrial             22          1942.0   13228.0   \n",
      "\n",
      "   sup_suelo  valor_catastral  \n",
      "0        NaN     1.295259e+08  \n",
      "1        NaN     4.076055e+08  \n",
      "2        NaN     7.582872e+07  \n",
      "3        NaN     1.954138e+08  \n",
      "4        NaN     1.180795e+07  \n",
      "Número de registros después del filtrado: 128\n",
      "Resultado:\n",
      "       sup_cons  valor_catastral  valor_medio_m2\n",
      "1528  1370699.0     1.859333e+09     1356.484965\n",
      "1541  1991294.0     2.474862e+09     1242.841053\n",
      "1554   778432.0     1.181972e+09     1518.400659\n",
      "1567  1339143.0     2.164152e+09     1616.072330\n",
      "1580  1804472.0     2.466697e+09     1366.991069\n",
      "1593   651466.0     9.247622e+08     1419.509556\n",
      "1605   992802.0     1.286874e+09     1296.204138\n",
      "1617  1644314.0     2.082583e+09     1266.535947\n",
      "1628   767930.0     9.035908e+08     1176.657713\n",
      "1637   877666.0     1.244198e+09     1417.621318\n",
      "1649  1213772.0     1.499766e+09     1235.624367\n",
      "1662  1162594.0     1.362557e+09     1171.997108\n",
      "1670    53023.0     8.073477e+07     1522.636783\n",
      "1681  1607882.0     2.057542e+09     1279.659772\n",
      "1693   814031.0     1.112982e+09     1367.247269\n"
     ]
    }
   ],
   "source": [
    "import pandas as pd\n",
    "\n",
    "# Cargamos los datos del archivo TSV\n",
    "df = pd.read_csv('catastro.tsv', sep='\\t')\n",
    "\n",
    "# Verificamos de los datos cargados\n",
    "print(\"Datos cargados:\")\n",
    "print(df.head())\n",
    "\n",
    "# Filtramos por año 2013 y uso Residencial\n",
    "df_filtrado = df[(df['año'] == 2013) & (df['uso'] == 'Residencial')]\n",
    "\n",
    "# Verificamos del filtrado\n",
    "print(\"Número de registros después del filtrado:\", len(df_filtrado))\n",
    "\n",
    "# Seleccionamos los 15 primeros registros\n",
    "df_filtrado = df_filtrado.head(15)\n",
    "\n",
    "# Seleccionamos las columnas 'sup_cons' y 'valor_catastral' y creamos un nuevo DataFrame independiente\n",
    "df_seleccionado = df_filtrado[['sup_cons', 'valor_catastral']].copy()\n",
    "\n",
    "# Añadimos la columna 'valor_medio_m2'\n",
    "# Aquí añadimos una comprobación para evitar la división por cero\n",
    "df_seleccionado['valor_medio_m2'] = df_seleccionado['valor_catastral'] / df_seleccionado['sup_cons'].replace(0, 1)\n",
    "\n",
    "# Mostramos el resultado\n",
    "print(\"Resultado:\")\n",
    "print(df_seleccionado)"
   ]
  },
  {
   "cell_type": "markdown",
   "metadata": {},
   "source": [
    "### 5. Utilizando groupby, obtén el total de número de inmuebles y valor catastral por año y uso.\n",
    "\n",
    "**Realiza un cruce (merge) de información por año, encuentra aquellos usos en los que el número de inmuebles ha disminiuido.**"
   ]
  },
  {
   "cell_type": "code",
   "execution_count": null,
   "metadata": {},
   "outputs": [],
   "source": []
  }
 ],
 "metadata": {
  "kernelspec": {
   "display_name": "Python 3",
   "language": "python",
   "name": "python3"
  },
  "language_info": {
   "codemirror_mode": {
    "name": "ipython",
    "version": 3
   },
   "file_extension": ".py",
   "mimetype": "text/x-python",
   "name": "python",
   "nbconvert_exporter": "python",
   "pygments_lexer": "ipython3",
   "version": "3.11.1"
  }
 },
 "nbformat": 4,
 "nbformat_minor": 4
}
